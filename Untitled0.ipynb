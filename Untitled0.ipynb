{
  "nbformat": 4,
  "nbformat_minor": 0,
  "metadata": {
    "colab": {
      "provenance": [],
      "authorship_tag": "ABX9TyNP2A5a7ySYo4bKPBtMBGnm",
      "include_colab_link": true
    },
    "kernelspec": {
      "name": "python3",
      "display_name": "Python 3"
    },
    "language_info": {
      "name": "python"
    }
  },
  "cells": [
    {
      "cell_type": "markdown",
      "metadata": {
        "id": "view-in-github",
        "colab_type": "text"
      },
      "source": [
        "<a href=\"https://colab.research.google.com/github/misakima-cool/my-first-python-project/blob/main/Untitled0.ipynb\" target=\"_parent\"><img src=\"https://colab.research.google.com/assets/colab-badge.svg\" alt=\"Open In Colab\"/></a>"
      ]
    },
    {
      "cell_type": "code",
      "execution_count": 3,
      "metadata": {
        "colab": {
          "base_uri": "https://localhost:8080/"
        },
        "id": "K3o-RkT1Uhtq",
        "outputId": "e389e105-228b-4a00-c4c1-4a82634d0bf7"
      },
      "outputs": [
        {
          "output_type": "stream",
          "name": "stdout",
          "text": [
            "姓名：misakima\n",
            "年齡：28\n",
            "興趣：Game,code.learn\n",
            "學習目標：Java\n",
            "\n",
            "📋 個人檔案建立完成：\n",
            "   name: misakima\n",
            "   age: 28\n",
            "   hobby: Game,code.learn\n",
            "   goal: Java\n",
            "\n",
            "🎉 資料已建立，準備上傳到Github！\n"
          ]
        }
      ],
      "source": [
        "# 個人資料分析小工具\n",
        "from typing import Dict, List  # 型別提示\n",
        "import json  # 處理JSON格式\n",
        "\n",
        "def create_personal_profile() -> Dict[str, str]:  # 建立個人檔案\n",
        "    profile = {  # 建立字典存放資料\n",
        "        \"name\": input(\"姓名：\"),           # 使用者輸入姓名\n",
        "        \"age\": input(\"年齡：\"),            # 使用者輸入年齡\n",
        "        \"hobby\": input(\"興趣：\"),          # 使用者輸入興趣\n",
        "        \"goal\": input(\"學習目標：\")        # 使用者輸入目標\n",
        "    }\n",
        "\n",
        "    print(f\"\\n📋 個人檔案建立完成：\")\n",
        "    for key, value in profile.items():  # 迴圈顯示所有資料\n",
        "        print(f\"   {key}: {value}\")     # 格式化輸出\n",
        "\n",
        "    return profile  # 回傳建立的檔案\n",
        "\n",
        "# 執行程式\n",
        "my_profile = create_personal_profile()\n",
        "print(\"\\n🎉 資料已建立，準備上傳到Github！\")"
      ]
    },
    {
      "cell_type": "code",
      "source": [
        "# 基本判斷式結構\n",
        "print(\"🌤️ 天氣決策助手\")\n",
        "print(\"=\" * 20)\n",
        "\n",
        "# 今天的天氣\n",
        "weather = \"下冰雹\"  # 可以改成其他天氣試試看\n",
        "\n",
        "print(f\"今天天氣：{weather}\")\n",
        "\n",
        "if weather == \"下雨\":\n",
        "    print(\"建議：☂️ 記得帶雨傘！\")\n",
        "elif weather == \"下雪\":\n",
        "    print(\"建議：🧥 穿厚外套保暖！\")\n",
        "elif weather == \"颳風\":\n",
        "    print(\"建議：🧢 戴帽子避免頭髮亂飛！\")\n",
        "else:\n",
        "    print(\"建議：😎 享受美好的天氣！\")\n",
        "\n",
        "print(\"\\n\" + \"=\"*30)\n",
        "print(\"試試看改變 weather 變數的值！\")\n",
        "print(\"可以試試：'晴天'、'下雨'、'颳風'、'下雪'\")"
      ],
      "metadata": {
        "colab": {
          "base_uri": "https://localhost:8080/"
        },
        "id": "995ZtB35WyAu",
        "outputId": "343c425e-d90c-4849-d41c-7984447c30bc"
      },
      "execution_count": 4,
      "outputs": [
        {
          "output_type": "stream",
          "name": "stdout",
          "text": [
            "🌤️ 天氣決策助手\n",
            "====================\n",
            "今天天氣：下冰雹\n",
            "建議：😎 享受美好的天氣！\n",
            "\n",
            "==============================\n",
            "試試看改變 weather 變數的值！\n",
            "可以試試：'晴天'、'下雨'、'颳風'、'下雪'\n"
          ]
        }
      ]
    },
    {
      "cell_type": "code",
      "source": [
        "# 數值比較範例：成績評等系統\n",
        "print(\"📊 成績評等系統\")\n",
        "print(\"=\" * 20)\n",
        "# 學生的分數\n",
        "score = 30  # 可以改成其他分數試試看\n",
        "\n",
        "print(f\"分數：{score} 分\")\n",
        "\n",
        "# 多重條件判斷 ==, >=, <=, >, <\n",
        "if score >= 90:\n",
        "    grade = \"A+\"\n",
        "    emoji = \"🌟\"\n",
        "    comment = \"優秀！\"\n",
        "elif score >= 80:\n",
        "    grade = \"A\"\n",
        "    emoji = \"👍\"\n",
        "    comment = \"很好！\"\n",
        "elif score >= 70:\n",
        "    grade = \"B\"\n",
        "    emoji = \"📚\"\n",
        "    comment = \"不錯！\"\n",
        "elif score >= 60:\n",
        "    grade = \"C\"\n",
        "    emoji = \"⚠️\"\n",
        "    comment = \"及格了！\"\n",
        "else:\n",
        "    grade = \"F\"\n",
        "    emoji = \"💪\"\n",
        "    comment = \"需要加油！\"\n",
        "\n",
        "print(f\"等級：{grade} {emoji}\")\n",
        "print(f\"評語：{comment}\")"
      ],
      "metadata": {
        "colab": {
          "base_uri": "https://localhost:8080/"
        },
        "id": "uiU2da4NUwDG",
        "outputId": "826f38ba-5406-4344-97c8-869d5a9d5567"
      },
      "execution_count": 6,
      "outputs": [
        {
          "output_type": "stream",
          "name": "stdout",
          "text": [
            "📊 成績評等系統\n",
            "====================\n",
            "分數：30 分\n",
            "等級：F 💪\n",
            "評語：需要加油！\n"
          ]
        }
      ]
    },
    {
      "cell_type": "code",
      "source": [
        "# 練習題 1：個人化問候系統\n",
        "print(\"練習題 1：個人化問候系統\")\n",
        "print(\"請根據時間給出不同的問候語\")\n",
        "print(\"\\n提示：可以使用這個範例結構\")\n",
        "print(\"\")\n",
        "print(\"# 假設現在時間\")\n",
        "print(\"hour = 10  # 可以改成 8, 14, 20, 23 試試看\")\n",
        "print(\"\")\n",
        "print(\"if hour >= 6 and hour < 12:\")\n",
        "print('    print(\"早安！☀️\")')\n",
        "print(\"elif hour >= 12 and hour < 18:\")\n",
        "print('    print(\"午安！🌤️\")')\n",
        "print(\"# 繼續完成其他條件...\")\n",
        "\n",
        "# 範例實作\n",
        "hour = 10  # 假設現在是上午10點\n",
        "\n",
        "print(f\"\\n現在時間：{hour}點\")\n",
        "# or |\n",
        "# and &\n",
        "if hour >= 6 and hour < 12:\n",
        "    print(\"早安！☀️\")\n",
        "elif hour >= 12 and hour < 18:\n",
        "    print(\"午安！🌤️\")\n",
        "elif hour >= 18 and hour < 22:\n",
        "    print(\"晚安！🌙\")\n",
        "else:\n",
        "    print(\"夜深了，早點休息！😴\")"
      ],
      "metadata": {
        "colab": {
          "base_uri": "https://localhost:8080/"
        },
        "id": "Ypr3prkuXL_b",
        "outputId": "8cff4463-c2d8-4107-e1a1-1377f97d9841"
      },
      "execution_count": 7,
      "outputs": [
        {
          "output_type": "stream",
          "name": "stdout",
          "text": [
            "練習題 1：個人化問候系統\n",
            "請根據時間給出不同的問候語\n",
            "\n",
            "提示：可以使用這個範例結構\n",
            "\n",
            "# 假設現在時間\n",
            "hour = 10  # 可以改成 8, 14, 20, 23 試試看\n",
            "\n",
            "if hour >= 6 and hour < 12:\n",
            "    print(\"早安！☀️\")\n",
            "elif hour >= 12 and hour < 18:\n",
            "    print(\"午安！🌤️\")\n",
            "# 繼續完成其他條件...\n",
            "\n",
            "現在時間：10點\n",
            "早安！☀️\n"
          ]
        }
      ]
    },
    {
      "cell_type": "code",
      "source": [
        "hour = 23  # 假設現在是上午10點\n",
        "\n",
        "print(f\"\\n現在時間：{hour}點\")\n",
        "# or |\n",
        "# and &\n",
        "if hour >= 6 and hour < 12:\n",
        "    print(\"早安！☀️\")\n",
        "elif hour >= 12 and hour < 18:\n",
        "    print(\"午安！🌤️\")\n",
        "elif hour >= 18 and hour < 22:\n",
        "    print(\"晚安！🌙\")\n",
        "else:\n",
        "    print(\"夜深了，早點休息！😴\")"
      ],
      "metadata": {
        "colab": {
          "base_uri": "https://localhost:8080/"
        },
        "id": "3gqOB-vqXW0X",
        "outputId": "d57b85df-5343-4b9a-c5ba-168fe69fdde4"
      },
      "execution_count": 19,
      "outputs": [
        {
          "output_type": "stream",
          "name": "stdout",
          "text": [
            "\n",
            "現在時間：23點\n",
            "夜深了，早點休息！😴\n"
          ]
        }
      ]
    },
    {
      "cell_type": "code",
      "source": [
        "hour = 23\n",
        "\n",
        "print(f\"\\n現在時間:{hour}點\")\n",
        "\n",
        "if hour >= 6 and hour < 12:\n",
        "    print(\"早安!☀️\")\n",
        "elif hour >= 12 and hour < 18:\n",
        "    print(\"午安!🌤️\")\n",
        "elif hour >= 18 and hour < 22:\n",
        "    print(\"晚安!🌙\")\n",
        "else:\n",
        "    print(\"夜深了，早點休息！😴\")"
      ],
      "metadata": {
        "colab": {
          "base_uri": "https://localhost:8080/"
        },
        "id": "EME7m4xWZd7O",
        "outputId": "e9c7826c-2584-4b50-8004-43d5d2e30a9a"
      },
      "execution_count": 17,
      "outputs": [
        {
          "output_type": "stream",
          "name": "stdout",
          "text": [
            "\n",
            "現在時間:23點\n",
            "夜深了，早點休息！😴\n"
          ]
        }
      ]
    },
    {
      "cell_type": "code",
      "source": [
        "for i in range(5, 0, -1):  # 從5倒數到1\n",
        "    print(f\"   {i}...\")\n",
        "print(\"   🎉 時間到！\")"
      ],
      "metadata": {
        "colab": {
          "base_uri": "https://localhost:8080/"
        },
        "id": "oIeLWgOoawiw",
        "outputId": "541d532f-3d28-4893-c88f-0ee06486cc45"
      },
      "execution_count": 20,
      "outputs": [
        {
          "output_type": "stream",
          "name": "stdout",
          "text": [
            "   5...\n",
            "   4...\n",
            "   3...\n",
            "   2...\n",
            "   1...\n",
            "   🎉 時間到！\n"
          ]
        }
      ]
    },
    {
      "cell_type": "code",
      "source": [
        "print(\"\\n2️⃣ 水果清單：\")\n",
        "fruits = [\"🍎蘋果\", \"🍌香蕉\", \"🍇葡萄\", \"🍓草莓\", \"🥝奇異果\"]\n",
        "for fruit in fruits:\n",
        "    print(f\"   我喜歡吃 {fruit}\")\n"
      ],
      "metadata": {
        "colab": {
          "base_uri": "https://localhost:8080/"
        },
        "id": "UQDcutKveSkh",
        "outputId": "6924213a-62b6-49c5-8cbb-2c7deac4c15f"
      },
      "execution_count": 21,
      "outputs": [
        {
          "output_type": "stream",
          "name": "stdout",
          "text": [
            "\n",
            "2️⃣ 水果清單：\n",
            "   我喜歡吃 🍎蘋果\n",
            "   我喜歡吃 🍌香蕉\n",
            "   我喜歡吃 🍇葡萄\n",
            "   我喜歡吃 🍓草莓\n",
            "   我喜歡吃 🥝奇異果\n"
          ]
        }
      ]
    },
    {
      "cell_type": "code",
      "source": [
        "print(\"\\n3️⃣ 學生成績：\")\n",
        "names = [\"小明\", \"小華\", \"小美\", \"小強\"]\n",
        "scores = [85, 92, 78, 88]\n",
        "for i in range(len(names)):\n",
        "    name = names[i]\n",
        "    score = scores[i]\n",
        "\n",
        "    # 判斷成績等級\n",
        "    if score >= 90:\n",
        "        emoji = \"🌟\"\n",
        "    elif score >= 80:\n",
        "        emoji = \"👍\"\n",
        "    else:\n",
        "        emoji = \"📚\"\n",
        "    print(f\"   {name}：{score} 分 {emoji}\")\n",
        "#print(\"\\n💡 重要概念：\")\n",
        "#print(\"• range(5, 0, -1) 表示從5開始，到0結束（不包含），每次-1\")\n",
        "#print(\"• len(names) 會回傳清單的長度\")\n",
        "#print(\"• 可以用索引 [i] 來取得清單中的元素\")"
      ],
      "metadata": {
        "colab": {
          "base_uri": "https://localhost:8080/"
        },
        "id": "ZD6-mpm_eV9f",
        "outputId": "161e9a28-2b22-4968-acfd-e63afba64999"
      },
      "execution_count": 25,
      "outputs": [
        {
          "output_type": "stream",
          "name": "stdout",
          "text": [
            "\n",
            "3️⃣ 學生成績：\n",
            "   小明：85 分 👍\n",
            "   小華：92 分 🌟\n",
            "   小美：78 分 📚\n",
            "   小強：88 分 👍\n"
          ]
        }
      ]
    },
    {
      "cell_type": "code",
      "source": [
        "# While 迴圈基礎範例\n",
        "print(\"⏰ While 迴圈基礎示範\")\n",
        "print(\"=\" * 22)\n",
        "\n",
        "# 範例 1：簡單的計數\n",
        "print(\"\\n1️⃣ 數數字：\")\n",
        "count = 1\n",
        "while count <= 5:   # 進入迴圈的條件\n",
        "    print(f\"   現在數到：{count}\")\n",
        "    count = count + 1  # 或者寫成 count += 1  、count -= 1、 count = count -1\n",
        "print(\"   數完了！\")\n",
        "\n",
        "# Ctrl + C\n",
        "\n",
        "\n",
        "\n"
      ],
      "metadata": {
        "colab": {
          "base_uri": "https://localhost:8080/"
        },
        "id": "ip9EvpOuedF3",
        "outputId": "d07f8f7d-93c5-4a02-fcf4-16ade9c44c6b"
      },
      "execution_count": 26,
      "outputs": [
        {
          "output_type": "stream",
          "name": "stdout",
          "text": [
            "⏰ While 迴圈基礎示範\n",
            "======================\n",
            "\n",
            "1️⃣ 數數字：\n",
            "   現在數到：1\n",
            "   現在數到：2\n",
            "   現在數到：3\n",
            "   現在數到：4\n",
            "   現在數到：5\n",
            "   數完了！\n",
            "\n",
            "2️⃣ 存錢達標計畫：\n",
            "   目標：存到 $10000 元\n",
            "   每月存款：$1500 元\n",
            "   ---\n",
            "   第 1 個月：存款 $1500 元\n",
            "   第 2 個月：存款 $3000 元\n",
            "   第 3 個月：存款 $4500 元\n",
            "   第 4 個月：存款 $6000 元\n",
            "   第 5 個月：存款 $7500 元\n",
            "   第 6 個月：存款 $9000 元\n",
            "   第 7 個月：存款 $10500 元\n",
            "   🎯 達標！總共花了 7 個月\n",
            "\n",
            "3️⃣ 猜數字遊戲（簡化版）：\n",
            "   第 1 次猜測：5\n",
            "   📈 太小了！\n",
            "   🎉 恭喜！猜對了！答案是 7\n"
          ]
        }
      ]
    },
    {
      "cell_type": "code",
      "source": [
        "# 範例 2：存錢計畫\n",
        "print(\"\\n2️⃣ 存錢達標計畫：\")\n",
        "target = 10000  # 目標金額\n",
        "current_savings = 0  # 目前存款\n",
        "monthly_save = 1500  # 每月存款\n",
        "month = 0\n",
        "\n",
        "print(f\"   目標：存到 ${target} 元\")\n",
        "print(f\"   每月存款：${monthly_save} 元\")\n",
        "print(\"   ---\")\n",
        "\n",
        "while current_savings < target:\n",
        "    month = month + 1\n",
        "    current_savings = current_savings + monthly_save\n",
        "    print(f\"   第 {month} 個月：存款 ${current_savings} 元\")\n",
        "\n",
        "print(f\"   🎯 達標！總共花了 {month} 個月\")"
      ],
      "metadata": {
        "colab": {
          "base_uri": "https://localhost:8080/"
        },
        "id": "5ilD4jS7fIuO",
        "outputId": "bac08329-db5d-4673-baca-64ac82bbd3b8"
      },
      "execution_count": 27,
      "outputs": [
        {
          "output_type": "stream",
          "name": "stdout",
          "text": [
            "\n",
            "2️⃣ 存錢達標計畫：\n",
            "   目標：存到 $10000 元\n",
            "   每月存款：$1500 元\n",
            "   ---\n",
            "   第 1 個月：存款 $1500 元\n",
            "   第 2 個月：存款 $3000 元\n",
            "   第 3 個月：存款 $4500 元\n",
            "   第 4 個月：存款 $6000 元\n",
            "   第 5 個月：存款 $7500 元\n",
            "   第 6 個月：存款 $9000 元\n",
            "   第 7 個月：存款 $10500 元\n",
            "   🎯 達標！總共花了 7 個月\n"
          ]
        }
      ]
    },
    {
      "cell_type": "code",
      "source": [
        "# 範例 3：使用者輸入迴圈（模擬）\n",
        "print(\"\\n3️⃣ 猜數字遊戲（簡化版）：\")\n",
        "secret_number = 7\n",
        "guess = 5  # 第一次猜測\n",
        "attempts = 0\n",
        "\n",
        "while guess != secret_number and attempts < 3:\n",
        "    attempts = attempts + 1\n",
        "    print(f\"   第 {attempts} 次猜測：{guess}\")\n",
        "\n",
        "    if guess < secret_number:\n",
        "        print(\"   📈 太小了！\")\n",
        "        guess = guess + 2  # 模擬調整猜測\n",
        "    elif guess > secret_number:\n",
        "        print(\"   📉 太大了！\")\n",
        "        guess = guess - 1  # 模擬調整猜測\n",
        "\n",
        "if guess == secret_number:\n",
        "    print(f\"   🎉 恭喜！猜對了！答案是 {secret_number}\")\n",
        "else:\n",
        "    print(\"   😅 沒猜中，答案是 7\")\n",
        "\n",
        "##print(\"\\n💡 重要概念：\")\n",
        "##print(\"• while 迴圈會一直執行，直到條件變成 False\")\n",
        "##print(\"• 記得要讓條件最終變成 False，否則會無窮迴圈\")\n",
        "##print(\"• 常見寫法：count = count + 1 (也可以寫成 count += 1)\")"
      ],
      "metadata": {
        "colab": {
          "base_uri": "https://localhost:8080/"
        },
        "id": "ht8kcX6mfhXu",
        "outputId": "c7c61105-f6dc-4c11-a9ec-3e9173f56424"
      },
      "execution_count": 28,
      "outputs": [
        {
          "output_type": "stream",
          "name": "stdout",
          "text": [
            "\n",
            "3️⃣ 猜數字遊戲（簡化版）：\n",
            "   第 1 次猜測：5\n",
            "   📈 太小了！\n",
            "   🎉 恭喜！猜對了！答案是 7\n"
          ]
        }
      ]
    },
    {
      "cell_type": "code",
      "source": [
        "print(\"\\n示範：2 的乘法表\")\n",
        "print(\"=\" * 15)\n",
        "for j in range(1, 10):\n",
        "    for i in range(1, 10):\n",
        "        result = j * i\n",
        "        print(f\"{i}×{j}={result:<2}\", end=\"\\t\")\n",
        "    print()  # 換行"
      ],
      "metadata": {
        "colab": {
          "base_uri": "https://localhost:8080/"
        },
        "id": "BmY4ObbUfjnq",
        "outputId": "5f429bf8-26b6-4075-a288-daceaad14a9c"
      },
      "execution_count": 43,
      "outputs": [
        {
          "output_type": "stream",
          "name": "stdout",
          "text": [
            "\n",
            "示範：2 的乘法表\n",
            "===============\n",
            "1×1=1 \t2×1=2 \t3×1=3 \t4×1=4 \t5×1=5 \t6×1=6 \t7×1=7 \t8×1=8 \t9×1=9 \t\n",
            "1×2=2 \t2×2=4 \t3×2=6 \t4×2=8 \t5×2=10\t6×2=12\t7×2=14\t8×2=16\t9×2=18\t\n",
            "1×3=3 \t2×3=6 \t3×3=9 \t4×3=12\t5×3=15\t6×3=18\t7×3=21\t8×3=24\t9×3=27\t\n",
            "1×4=4 \t2×4=8 \t3×4=12\t4×4=16\t5×4=20\t6×4=24\t7×4=28\t8×4=32\t9×4=36\t\n",
            "1×5=5 \t2×5=10\t3×5=15\t4×5=20\t5×5=25\t6×5=30\t7×5=35\t8×5=40\t9×5=45\t\n",
            "1×6=6 \t2×6=12\t3×6=18\t4×6=24\t5×6=30\t6×6=36\t7×6=42\t8×6=48\t9×6=54\t\n",
            "1×7=7 \t2×7=14\t3×7=21\t4×7=28\t5×7=35\t6×7=42\t7×7=49\t8×7=56\t9×7=63\t\n",
            "1×8=8 \t2×8=16\t3×8=24\t4×8=32\t5×8=40\t6×8=48\t7×8=56\t8×8=64\t9×8=72\t\n",
            "1×9=9 \t2×9=18\t3×9=27\t4×9=36\t5×9=45\t6×9=54\t7×9=63\t8×9=72\t9×9=81\t\n"
          ]
        }
      ]
    },
    {
      "cell_type": "code",
      "source": [],
      "metadata": {
        "id": "TTPxThiPj3ts"
      },
      "execution_count": null,
      "outputs": []
    }
  ]
}