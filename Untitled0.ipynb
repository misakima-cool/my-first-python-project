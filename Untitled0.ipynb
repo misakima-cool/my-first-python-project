{
  "nbformat": 4,
  "nbformat_minor": 0,
  "metadata": {
    "colab": {
      "provenance": [],
      "authorship_tag": "ABX9TyOcly8Zc3OE8iGCH+iWH8El",
      "include_colab_link": true
    },
    "kernelspec": {
      "name": "python3",
      "display_name": "Python 3"
    },
    "language_info": {
      "name": "python"
    }
  },
  "cells": [
    {
      "cell_type": "markdown",
      "metadata": {
        "id": "view-in-github",
        "colab_type": "text"
      },
      "source": [
        "<a href=\"https://colab.research.google.com/github/misakima-cool/my-first-python-project/blob/main/Untitled0.ipynb\" target=\"_parent\"><img src=\"https://colab.research.google.com/assets/colab-badge.svg\" alt=\"Open In Colab\"/></a>"
      ]
    },
    {
      "cell_type": "code",
      "execution_count": 3,
      "metadata": {
        "colab": {
          "base_uri": "https://localhost:8080/"
        },
        "id": "K3o-RkT1Uhtq",
        "outputId": "e389e105-228b-4a00-c4c1-4a82634d0bf7"
      },
      "outputs": [
        {
          "output_type": "stream",
          "name": "stdout",
          "text": [
            "姓名：misakima\n",
            "年齡：28\n",
            "興趣：Game,code.learn\n",
            "學習目標：Java\n",
            "\n",
            "📋 個人檔案建立完成：\n",
            "   name: misakima\n",
            "   age: 28\n",
            "   hobby: Game,code.learn\n",
            "   goal: Java\n",
            "\n",
            "🎉 資料已建立，準備上傳到Github！\n"
          ]
        }
      ],
      "source": [
        "# 個人資料分析小工具\n",
        "from typing import Dict, List  # 型別提示\n",
        "import json  # 處理JSON格式\n",
        "\n",
        "def create_personal_profile() -> Dict[str, str]:  # 建立個人檔案\n",
        "    profile = {  # 建立字典存放資料\n",
        "        \"name\": input(\"姓名：\"),           # 使用者輸入姓名\n",
        "        \"age\": input(\"年齡：\"),            # 使用者輸入年齡\n",
        "        \"hobby\": input(\"興趣：\"),          # 使用者輸入興趣\n",
        "        \"goal\": input(\"學習目標：\")        # 使用者輸入目標\n",
        "    }\n",
        "\n",
        "    print(f\"\\n📋 個人檔案建立完成：\")\n",
        "    for key, value in profile.items():  # 迴圈顯示所有資料\n",
        "        print(f\"   {key}: {value}\")     # 格式化輸出\n",
        "\n",
        "    return profile  # 回傳建立的檔案\n",
        "\n",
        "# 執行程式\n",
        "my_profile = create_personal_profile()\n",
        "print(\"\\n🎉 資料已建立，準備上傳到Github！\")"
      ]
    },
    {
      "cell_type": "code",
      "source": [],
      "metadata": {
        "id": "uiU2da4NUwDG"
      },
      "execution_count": null,
      "outputs": []
    }
  ]
}