{
  "nbformat": 4,
  "nbformat_minor": 0,
  "metadata": {
    "colab": {
      "provenance": [],
      "authorship_tag": "ABX9TyMdJfaOWVekw2HbS6bAf9kA",
      "include_colab_link": true
    },
    "kernelspec": {
      "name": "python3",
      "display_name": "Python 3"
    },
    "language_info": {
      "name": "python"
    }
  },
  "cells": [
    {
      "cell_type": "markdown",
      "metadata": {
        "id": "view-in-github",
        "colab_type": "text"
      },
      "source": [
        "<a href=\"https://colab.research.google.com/github/misakima-cool/my-first-python-project/blob/main/%E8%BF%B4%E5%9C%88.ipynb\" target=\"_parent\"><img src=\"https://colab.research.google.com/assets/colab-badge.svg\" alt=\"Open In Colab\"/></a>"
      ]
    },
    {
      "cell_type": "code",
      "execution_count": null,
      "metadata": {
        "colab": {
          "base_uri": "https://localhost:8080/"
        },
        "id": "K3o-RkT1Uhtq",
        "outputId": "e389e105-228b-4a00-c4c1-4a82634d0bf7"
      },
      "outputs": [
        {
          "output_type": "stream",
          "name": "stdout",
          "text": [
            "姓名：misakima\n",
            "年齡：28\n",
            "興趣：Game,code.learn\n",
            "學習目標：Java\n",
            "\n",
            "📋 個人檔案建立完成：\n",
            "   name: misakima\n",
            "   age: 28\n",
            "   hobby: Game,code.learn\n",
            "   goal: Java\n",
            "\n",
            "🎉 資料已建立，準備上傳到Github！\n"
          ]
        }
      ],
      "source": [
        "# 個人資料分析小工具\n",
        "from typing import Dict, List  # 型別提示\n",
        "import json  # 處理JSON格式\n",
        "\n",
        "def create_personal_profile() -> Dict[str, str]:  # 建立個人檔案\n",
        "    profile = {  # 建立字典存放資料\n",
        "        \"name\": input(\"姓名：\"),           # 使用者輸入姓名\n",
        "        \"age\": input(\"年齡：\"),            # 使用者輸入年齡\n",
        "        \"hobby\": input(\"興趣：\"),          # 使用者輸入興趣\n",
        "        \"goal\": input(\"學習目標：\")        # 使用者輸入目標\n",
        "    }\n",
        "\n",
        "    print(f\"\\n📋 個人檔案建立完成：\")\n",
        "    for key, value in profile.items():  # 迴圈顯示所有資料\n",
        "        print(f\"   {key}: {value}\")     # 格式化輸出\n",
        "\n",
        "    return profile  # 回傳建立的檔案\n",
        "\n",
        "# 執行程式\n",
        "my_profile = create_personal_profile()\n",
        "print(\"\\n🎉 資料已建立，準備上傳到Github！\")"
      ]
    },
    {
      "cell_type": "code",
      "source": [
        "# 基本判斷式結構\n",
        "print(\"🌤️ 天氣決策助手\")\n",
        "print(\"=\" * 20)\n",
        "\n",
        "# 今天的天氣\n",
        "weather = \"下冰雹\"  # 可以改成其他天氣試試看\n",
        "\n",
        "print(f\"今天天氣：{weather}\")\n",
        "\n",
        "if weather == \"下雨\":\n",
        "    print(\"建議：☂️ 記得帶雨傘！\")\n",
        "elif weather == \"下雪\":\n",
        "    print(\"建議：🧥 穿厚外套保暖！\")\n",
        "elif weather == \"颳風\":\n",
        "    print(\"建議：🧢 戴帽子避免頭髮亂飛！\")\n",
        "else:\n",
        "    print(\"建議：😎 享受美好的天氣！\")\n",
        "\n",
        "print(\"\\n\" + \"=\"*30)\n",
        "print(\"試試看改變 weather 變數的值！\")\n",
        "print(\"可以試試：'晴天'、'下雨'、'颳風'、'下雪'\")"
      ],
      "metadata": {
        "colab": {
          "base_uri": "https://localhost:8080/"
        },
        "id": "995ZtB35WyAu",
        "outputId": "343c425e-d90c-4849-d41c-7984447c30bc"
      },
      "execution_count": null,
      "outputs": [
        {
          "output_type": "stream",
          "name": "stdout",
          "text": [
            "🌤️ 天氣決策助手\n",
            "====================\n",
            "今天天氣：下冰雹\n",
            "建議：😎 享受美好的天氣！\n",
            "\n",
            "==============================\n",
            "試試看改變 weather 變數的值！\n",
            "可以試試：'晴天'、'下雨'、'颳風'、'下雪'\n"
          ]
        }
      ]
    },
    {
      "cell_type": "code",
      "source": [
        "# 數值比較範例：成績評等系統\n",
        "print(\"📊 成績評等系統\")\n",
        "print(\"=\" * 20)\n",
        "# 學生的分數\n",
        "score = 30  # 可以改成其他分數試試看\n",
        "\n",
        "print(f\"分數：{score} 分\")\n",
        "\n",
        "# 多重條件判斷 ==, >=, <=, >, <\n",
        "if score >= 90:\n",
        "    grade = \"A+\"\n",
        "    emoji = \"🌟\"\n",
        "    comment = \"優秀！\"\n",
        "elif score >= 80:\n",
        "    grade = \"A\"\n",
        "    emoji = \"👍\"\n",
        "    comment = \"很好！\"\n",
        "elif score >= 70:\n",
        "    grade = \"B\"\n",
        "    emoji = \"📚\"\n",
        "    comment = \"不錯！\"\n",
        "elif score >= 60:\n",
        "    grade = \"C\"\n",
        "    emoji = \"⚠️\"\n",
        "    comment = \"及格了！\"\n",
        "else:\n",
        "    grade = \"F\"\n",
        "    emoji = \"💪\"\n",
        "    comment = \"需要加油！\"\n",
        "\n",
        "print(f\"等級：{grade} {emoji}\")\n",
        "print(f\"評語：{comment}\")"
      ],
      "metadata": {
        "colab": {
          "base_uri": "https://localhost:8080/"
        },
        "id": "uiU2da4NUwDG",
        "outputId": "826f38ba-5406-4344-97c8-869d5a9d5567"
      },
      "execution_count": null,
      "outputs": [
        {
          "output_type": "stream",
          "name": "stdout",
          "text": [
            "📊 成績評等系統\n",
            "====================\n",
            "分數：30 分\n",
            "等級：F 💪\n",
            "評語：需要加油！\n"
          ]
        }
      ]
    },
    {
      "cell_type": "code",
      "source": [
        "# 練習題 1：個人化問候系統\n",
        "print(\"練習題 1：個人化問候系統\")\n",
        "print(\"請根據時間給出不同的問候語\")\n",
        "print(\"\\n提示：可以使用這個範例結構\")\n",
        "print(\"\")\n",
        "print(\"# 假設現在時間\")\n",
        "print(\"hour = 10  # 可以改成 8, 14, 20, 23 試試看\")\n",
        "print(\"\")\n",
        "print(\"if hour >= 6 and hour < 12:\")\n",
        "print('    print(\"早安！☀️\")')\n",
        "print(\"elif hour >= 12 and hour < 18:\")\n",
        "print('    print(\"午安！🌤️\")')\n",
        "print(\"# 繼續完成其他條件...\")\n",
        "\n",
        "# 範例實作\n",
        "hour = 10  # 假設現在是上午10點\n",
        "\n",
        "print(f\"\\n現在時間：{hour}點\")\n",
        "# or |\n",
        "# and &\n",
        "if hour >= 6 and hour < 12:\n",
        "    print(\"早安！☀️\")\n",
        "elif hour >= 12 and hour < 18:\n",
        "    print(\"午安！🌤️\")\n",
        "elif hour >= 18 and hour < 22:\n",
        "    print(\"晚安！🌙\")\n",
        "else:\n",
        "    print(\"夜深了，早點休息！😴\")"
      ],
      "metadata": {
        "colab": {
          "base_uri": "https://localhost:8080/"
        },
        "id": "Ypr3prkuXL_b",
        "outputId": "8cff4463-c2d8-4107-e1a1-1377f97d9841"
      },
      "execution_count": null,
      "outputs": [
        {
          "output_type": "stream",
          "name": "stdout",
          "text": [
            "練習題 1：個人化問候系統\n",
            "請根據時間給出不同的問候語\n",
            "\n",
            "提示：可以使用這個範例結構\n",
            "\n",
            "# 假設現在時間\n",
            "hour = 10  # 可以改成 8, 14, 20, 23 試試看\n",
            "\n",
            "if hour >= 6 and hour < 12:\n",
            "    print(\"早安！☀️\")\n",
            "elif hour >= 12 and hour < 18:\n",
            "    print(\"午安！🌤️\")\n",
            "# 繼續完成其他條件...\n",
            "\n",
            "現在時間：10點\n",
            "早安！☀️\n"
          ]
        }
      ]
    },
    {
      "cell_type": "code",
      "source": [
        "hour = 23  # 假設現在是上午10點\n",
        "\n",
        "print(f\"\\n現在時間：{hour}點\")\n",
        "# or |\n",
        "# and &\n",
        "if hour >= 6 and hour < 12:\n",
        "    print(\"早安！☀️\")\n",
        "elif hour >= 12 and hour < 18:\n",
        "    print(\"午安！🌤️\")\n",
        "elif hour >= 18 and hour < 22:\n",
        "    print(\"晚安！🌙\")\n",
        "else:\n",
        "    print(\"夜深了，早點休息！😴\")"
      ],
      "metadata": {
        "colab": {
          "base_uri": "https://localhost:8080/"
        },
        "id": "3gqOB-vqXW0X",
        "outputId": "d57b85df-5343-4b9a-c5ba-168fe69fdde4"
      },
      "execution_count": null,
      "outputs": [
        {
          "output_type": "stream",
          "name": "stdout",
          "text": [
            "\n",
            "現在時間：23點\n",
            "夜深了，早點休息！😴\n"
          ]
        }
      ]
    },
    {
      "cell_type": "code",
      "source": [
        "hour = 23\n",
        "\n",
        "print(f\"\\n現在時間:{hour}點\")\n",
        "\n",
        "if hour >= 6 and hour < 12:\n",
        "    print(\"早安!☀️\")\n",
        "elif hour >= 12 and hour < 18:\n",
        "    print(\"午安!🌤️\")\n",
        "elif hour >= 18 and hour < 22:\n",
        "    print(\"晚安!🌙\")\n",
        "else:\n",
        "    print(\"夜深了，早點休息！😴\")"
      ],
      "metadata": {
        "colab": {
          "base_uri": "https://localhost:8080/"
        },
        "id": "EME7m4xWZd7O",
        "outputId": "e9c7826c-2584-4b50-8004-43d5d2e30a9a"
      },
      "execution_count": null,
      "outputs": [
        {
          "output_type": "stream",
          "name": "stdout",
          "text": [
            "\n",
            "現在時間:23點\n",
            "夜深了，早點休息！😴\n"
          ]
        }
      ]
    },
    {
      "cell_type": "code",
      "source": [
        "for i in range(5, 0, -1):  # 從5倒數到1\n",
        "    print(f\"   {i}...\")\n",
        "print(\"   🎉 時間到！\")"
      ],
      "metadata": {
        "colab": {
          "base_uri": "https://localhost:8080/"
        },
        "id": "oIeLWgOoawiw",
        "outputId": "541d532f-3d28-4893-c88f-0ee06486cc45"
      },
      "execution_count": null,
      "outputs": [
        {
          "output_type": "stream",
          "name": "stdout",
          "text": [
            "   5...\n",
            "   4...\n",
            "   3...\n",
            "   2...\n",
            "   1...\n",
            "   🎉 時間到！\n"
          ]
        }
      ]
    },
    {
      "cell_type": "code",
      "source": [
        "print(\"\\n2️⃣ 水果清單：\")\n",
        "fruits = [\"🍎蘋果\", \"🍌香蕉\", \"🍇葡萄\", \"🍓草莓\", \"🥝奇異果\"]\n",
        "for fruit in fruits:\n",
        "    print(f\"   我喜歡吃 {fruit}\")\n"
      ],
      "metadata": {
        "colab": {
          "base_uri": "https://localhost:8080/"
        },
        "id": "UQDcutKveSkh",
        "outputId": "6924213a-62b6-49c5-8cbb-2c7deac4c15f"
      },
      "execution_count": null,
      "outputs": [
        {
          "output_type": "stream",
          "name": "stdout",
          "text": [
            "\n",
            "2️⃣ 水果清單：\n",
            "   我喜歡吃 🍎蘋果\n",
            "   我喜歡吃 🍌香蕉\n",
            "   我喜歡吃 🍇葡萄\n",
            "   我喜歡吃 🍓草莓\n",
            "   我喜歡吃 🥝奇異果\n"
          ]
        }
      ]
    },
    {
      "cell_type": "code",
      "source": [
        "print(\"\\n3️⃣ 學生成績：\")\n",
        "names = [\"小明\", \"小華\", \"小美\", \"小強\"]\n",
        "scores = [85, 92, 78, 88]\n",
        "for i in range(len(names)):\n",
        "    name = names[i]\n",
        "    score = scores[i]\n",
        "\n",
        "    # 判斷成績等級\n",
        "    if score >= 90:\n",
        "        emoji = \"🌟\"\n",
        "    elif score >= 80:\n",
        "        emoji = \"👍\"\n",
        "    else:\n",
        "        emoji = \"📚\"\n",
        "    print(f\"   {name}：{score} 分 {emoji}\")\n",
        "#print(\"\\n💡 重要概念：\")\n",
        "#print(\"• range(5, 0, -1) 表示從5開始，到0結束（不包含），每次-1\")\n",
        "#print(\"• len(names) 會回傳清單的長度\")\n",
        "#print(\"• 可以用索引 [i] 來取得清單中的元素\")"
      ],
      "metadata": {
        "colab": {
          "base_uri": "https://localhost:8080/"
        },
        "id": "ZD6-mpm_eV9f",
        "outputId": "161e9a28-2b22-4968-acfd-e63afba64999"
      },
      "execution_count": null,
      "outputs": [
        {
          "output_type": "stream",
          "name": "stdout",
          "text": [
            "\n",
            "3️⃣ 學生成績：\n",
            "   小明：85 分 👍\n",
            "   小華：92 分 🌟\n",
            "   小美：78 分 📚\n",
            "   小強：88 分 👍\n"
          ]
        }
      ]
    },
    {
      "cell_type": "code",
      "source": [
        "# While 迴圈基礎範例\n",
        "print(\"⏰ While 迴圈基礎示範\")\n",
        "print(\"=\" * 22)\n",
        "\n",
        "# 範例 1：簡單的計數\n",
        "print(\"\\n1️⃣ 數數字：\")\n",
        "count = 1\n",
        "while count <= 5:   # 進入迴圈的條件\n",
        "    print(f\"   現在數到：{count}\")\n",
        "    count = count + 1  # 或者寫成 count += 1  、count -= 1、 count = count -1\n",
        "print(\"   數完了！\")\n",
        "\n",
        "# Ctrl + C\n",
        "\n",
        "\n",
        "\n"
      ],
      "metadata": {
        "colab": {
          "base_uri": "https://localhost:8080/"
        },
        "id": "ip9EvpOuedF3",
        "outputId": "d07f8f7d-93c5-4a02-fcf4-16ade9c44c6b"
      },
      "execution_count": null,
      "outputs": [
        {
          "output_type": "stream",
          "name": "stdout",
          "text": [
            "⏰ While 迴圈基礎示範\n",
            "======================\n",
            "\n",
            "1️⃣ 數數字：\n",
            "   現在數到：1\n",
            "   現在數到：2\n",
            "   現在數到：3\n",
            "   現在數到：4\n",
            "   現在數到：5\n",
            "   數完了！\n",
            "\n",
            "2️⃣ 存錢達標計畫：\n",
            "   目標：存到 $10000 元\n",
            "   每月存款：$1500 元\n",
            "   ---\n",
            "   第 1 個月：存款 $1500 元\n",
            "   第 2 個月：存款 $3000 元\n",
            "   第 3 個月：存款 $4500 元\n",
            "   第 4 個月：存款 $6000 元\n",
            "   第 5 個月：存款 $7500 元\n",
            "   第 6 個月：存款 $9000 元\n",
            "   第 7 個月：存款 $10500 元\n",
            "   🎯 達標！總共花了 7 個月\n",
            "\n",
            "3️⃣ 猜數字遊戲（簡化版）：\n",
            "   第 1 次猜測：5\n",
            "   📈 太小了！\n",
            "   🎉 恭喜！猜對了！答案是 7\n"
          ]
        }
      ]
    },
    {
      "cell_type": "code",
      "source": [
        "# 範例 2：存錢計畫\n",
        "print(\"\\n2️⃣ 存錢達標計畫：\")\n",
        "target = 10000  # 目標金額\n",
        "current_savings = 0  # 目前存款\n",
        "monthly_save = 1500  # 每月存款\n",
        "month = 0\n",
        "\n",
        "print(f\"   目標：存到 ${target} 元\")\n",
        "print(f\"   每月存款：${monthly_save} 元\")\n",
        "print(\"   ---\")\n",
        "\n",
        "while current_savings < target:\n",
        "    month = month + 1\n",
        "    current_savings = current_savings + monthly_save\n",
        "    print(f\"   第 {month} 個月：存款 ${current_savings} 元\")\n",
        "\n",
        "print(f\"   🎯 達標！總共花了 {month} 個月\")"
      ],
      "metadata": {
        "colab": {
          "base_uri": "https://localhost:8080/"
        },
        "id": "5ilD4jS7fIuO",
        "outputId": "bac08329-db5d-4673-baca-64ac82bbd3b8"
      },
      "execution_count": null,
      "outputs": [
        {
          "output_type": "stream",
          "name": "stdout",
          "text": [
            "\n",
            "2️⃣ 存錢達標計畫：\n",
            "   目標：存到 $10000 元\n",
            "   每月存款：$1500 元\n",
            "   ---\n",
            "   第 1 個月：存款 $1500 元\n",
            "   第 2 個月：存款 $3000 元\n",
            "   第 3 個月：存款 $4500 元\n",
            "   第 4 個月：存款 $6000 元\n",
            "   第 5 個月：存款 $7500 元\n",
            "   第 6 個月：存款 $9000 元\n",
            "   第 7 個月：存款 $10500 元\n",
            "   🎯 達標！總共花了 7 個月\n"
          ]
        }
      ]
    },
    {
      "cell_type": "code",
      "source": [
        "# 範例 3：使用者輸入迴圈（模擬）\n",
        "print(\"\\n3️⃣ 猜數字遊戲（簡化版）：\")\n",
        "secret_number = 7\n",
        "guess = 5  # 第一次猜測\n",
        "attempts = 0\n",
        "\n",
        "while guess != secret_number and attempts < 3:\n",
        "    attempts = attempts + 1\n",
        "    print(f\"   第 {attempts} 次猜測：{guess}\")\n",
        "\n",
        "    if guess < secret_number:\n",
        "        print(\"   📈 太小了！\")\n",
        "        guess = guess + 2  # 模擬調整猜測\n",
        "    elif guess > secret_number:\n",
        "        print(\"   📉 太大了！\")\n",
        "        guess = guess - 1  # 模擬調整猜測\n",
        "\n",
        "if guess == secret_number:\n",
        "    print(f\"   🎉 恭喜！猜對了！答案是 {secret_number}\")\n",
        "else:\n",
        "    print(\"   😅 沒猜中，答案是 7\")\n",
        "\n",
        "##print(\"\\n💡 重要概念：\")\n",
        "##print(\"• while 迴圈會一直執行，直到條件變成 False\")\n",
        "##print(\"• 記得要讓條件最終變成 False，否則會無窮迴圈\")\n",
        "##print(\"• 常見寫法：count = count + 1 (也可以寫成 count += 1)\")"
      ],
      "metadata": {
        "colab": {
          "base_uri": "https://localhost:8080/"
        },
        "id": "ht8kcX6mfhXu",
        "outputId": "c7c61105-f6dc-4c11-a9ec-3e9173f56424"
      },
      "execution_count": null,
      "outputs": [
        {
          "output_type": "stream",
          "name": "stdout",
          "text": [
            "\n",
            "3️⃣ 猜數字遊戲（簡化版）：\n",
            "   第 1 次猜測：5\n",
            "   📈 太小了！\n",
            "   🎉 恭喜！猜對了！答案是 7\n"
          ]
        }
      ]
    },
    {
      "cell_type": "code",
      "source": [
        "print(\"\\n示範：2 的乘法表\")\n",
        "print(\"=\" * 15)\n",
        "for j in range(1, 10):\n",
        "    for i in range(1, 10):\n",
        "        result = j * i\n",
        "        print(f\"{i}×{j}={result:<2}\", end=\"\\t\")\n",
        "    print()  # 換行"
      ],
      "metadata": {
        "colab": {
          "base_uri": "https://localhost:8080/"
        },
        "id": "BmY4ObbUfjnq",
        "outputId": "5f429bf8-26b6-4075-a288-daceaad14a9c"
      },
      "execution_count": null,
      "outputs": [
        {
          "output_type": "stream",
          "name": "stdout",
          "text": [
            "\n",
            "示範：2 的乘法表\n",
            "===============\n",
            "1×1=1 \t2×1=2 \t3×1=3 \t4×1=4 \t5×1=5 \t6×1=6 \t7×1=7 \t8×1=8 \t9×1=9 \t\n",
            "1×2=2 \t2×2=4 \t3×2=6 \t4×2=8 \t5×2=10\t6×2=12\t7×2=14\t8×2=16\t9×2=18\t\n",
            "1×3=3 \t2×3=6 \t3×3=9 \t4×3=12\t5×3=15\t6×3=18\t7×3=21\t8×3=24\t9×3=27\t\n",
            "1×4=4 \t2×4=8 \t3×4=12\t4×4=16\t5×4=20\t6×4=24\t7×4=28\t8×4=32\t9×4=36\t\n",
            "1×5=5 \t2×5=10\t3×5=15\t4×5=20\t5×5=25\t6×5=30\t7×5=35\t8×5=40\t9×5=45\t\n",
            "1×6=6 \t2×6=12\t3×6=18\t4×6=24\t5×6=30\t6×6=36\t7×6=42\t8×6=48\t9×6=54\t\n",
            "1×7=7 \t2×7=14\t3×7=21\t4×7=28\t5×7=35\t6×7=42\t7×7=49\t8×7=56\t9×7=63\t\n",
            "1×8=8 \t2×8=16\t3×8=24\t4×8=32\t5×8=40\t6×8=48\t7×8=56\t8×8=64\t9×8=72\t\n",
            "1×9=9 \t2×9=18\t3×9=27\t4×9=36\t5×9=45\t6×9=54\t7×9=63\t8×9=72\t9×9=81\t\n"
          ]
        }
      ]
    },
    {
      "cell_type": "code",
      "source": [
        "# 範例 1：簡單購物清單管理\n",
        "print(\"🛒 購物清單管理\")\n",
        "print(\"=\" * 20)\n",
        "\n",
        "# 商品價格表（用兩個清單來模擬）\n",
        "items = [\"蘋果\", \"香蕉\", \"牛奶\", \"麵包\", \"雞蛋\", \"米\"]\n",
        "prices = [30, 25, 75, 40, 60, 120]\n",
        "\n",
        "# 想要購買的物品\n",
        "wanted_items = [\"蘋果\", \"牛奶\", \"麵包\"]\n",
        "budget = 200  # 預算\n",
        "\n",
        "print(f\"💰 今日預算：${budget} 元\")\n",
        "print(f\"🎯 想要購買：{wanted_items}\")\n",
        "print(\"\\n📋 開始檢查...\")\n",
        "\n",
        "total_cost = 0\n",
        "bought_items = []  # 已購買的物品\n",
        "\n",
        "# 檢查每個想要的物品\n",
        "for wanted in wanted_items:\n",
        "    print(f\"\\n🔍 檢查：{wanted}\")\n",
        "\n",
        "    # 在商品清單中找這個物品\n",
        "    found = False\n",
        "    for i in range(len(items)):\n",
        "        if items[i] == wanted:\n",
        "            price = prices[i]\n",
        "            found = True\n",
        "\n",
        "            # 檢查預算是否足夠\n",
        "            if total_cost + price <= budget:\n",
        "                bought_items.append(wanted)\n",
        "                total_cost = total_cost + price\n",
        "                print(f\"   ✅ 已加入！價格：${price} 元\")\n",
        "                print(f\"   💳 目前總額：${total_cost} 元\")\n",
        "            else:\n",
        "                print(f\"   ❌ 超出預算！{wanted} 價格 ${price} 元\")\n",
        "                print(f\"   💸 剩餘預算：${budget - total_cost} 元\")\n",
        "            break  # 找到就停止搜尋\n",
        "\n",
        "    if not found:\n",
        "        print(f\"   🚫 商品不存在！{wanted} 不在商店裡\")\n",
        "\n",
        "# 顯示最終結果\n",
        "print(\"\\n\" + \"=\" * 30)\n",
        "print(\"📄 最終購物清單：\")\n",
        "\n",
        "if len(bought_items) > 0:\n",
        "    for i in range(len(bought_items)):\n",
        "        item = bought_items[i]\n",
        "        # 找到價格\n",
        "        for j in range(len(items)):\n",
        "            if items[j] == item:\n",
        "                price = prices[j]\n",
        "                print(f\"   {i+1}. {item} - ${price} 元\")\n",
        "                break\n",
        "\n",
        "    print(f\"\\n💰 總金額：${total_cost} 元\")\n",
        "    print(f\"💵 剩餘預算：${budget - total_cost} 元\")\n",
        "\n",
        "    # 簡單的建議\n",
        "    if total_cost > budget * 0.8:  # 超過80%預算\n",
        "        print(\"⚠️ 建議：今天花費較多，明天要節省一點！\")\n",
        "    else:\n",
        "        print(\"👍 建議：花費控制得不錯！\")\n",
        "else:\n",
        "    print(\"   😅 今天什麼都沒買到...\")\n",
        "\n",
        "print(\"\\n💡 這個範例展示了：\")\n",
        "print(\"• for迴圈遍歷清單\")\n",
        "print(\"• if判斷式做條件檢查\")\n",
        "print(\"• 變數累加計算總額\")\n",
        "print(\"• 清單操作（append, len）\")"
      ],
      "metadata": {
        "colab": {
          "base_uri": "https://localhost:8080/"
        },
        "id": "TTPxThiPj3ts",
        "outputId": "700b78fe-11bf-4b4b-cd45-cc28e8e2dc38"
      },
      "execution_count": null,
      "outputs": [
        {
          "output_type": "stream",
          "name": "stdout",
          "text": [
            "🛒 購物清單管理\n",
            "====================\n",
            "💰 今日預算：$200 元\n",
            "🎯 想要購買：['蘋果', '牛奶', '麵包']\n",
            "\n",
            "📋 開始檢查...\n",
            "\n",
            "🔍 檢查：蘋果\n",
            "   ✅ 已加入！價格：$30 元\n",
            "   💳 目前總額：$30 元\n",
            "\n",
            "🔍 檢查：牛奶\n",
            "   ✅ 已加入！價格：$75 元\n",
            "   💳 目前總額：$105 元\n",
            "\n",
            "🔍 檢查：麵包\n",
            "   ✅ 已加入！價格：$40 元\n",
            "   💳 目前總額：$145 元\n",
            "\n",
            "==============================\n",
            "📄 最終購物清單：\n",
            "   1. 蘋果 - $30 元\n",
            "   2. 牛奶 - $75 元\n",
            "   3. 麵包 - $40 元\n",
            "\n",
            "💰 總金額：$145 元\n",
            "💵 剩餘預算：$55 元\n",
            "👍 建議：花費控制得不錯！\n",
            "\n",
            "💡 這個範例展示了：\n",
            "• for迴圈遍歷清單\n",
            "• if判斷式做條件檢查\n",
            "• 變數累加計算總額\n",
            "• 清單操作（append, len）\n"
          ]
        }
      ]
    },
    {
      "cell_type": "code",
      "source": [
        "# 範例 2：簡單猜數字遊戲\n",
        "print(\"🎲 簡單猜數字遊戲\")\n",
        "print(\"=\" * 20)\n",
        "\n",
        "# 遊戲設定\n",
        "secret_number = 42  # 神秘數字\n",
        "max_attempts = 5   # 最多5次機會\n",
        "\n",
        "# 模擬玩家的猜測（實際使用時可以用input()）\n",
        "guesses = [30, 50, 40, 43, 42]\n",
        "\n",
        "print(f\"🎯 我想了一個 1 到 100 之間的數字\")\n",
        "print(f\"🎪 你有 {max_attempts} 次機會猜中它！\")\n",
        "print(\"💡 我會告訴你猜測是太大還是太小\\n\")\n",
        "\n",
        "attempts = 0\n",
        "found = False\n",
        "\n",
        "# 使用while迴圈進行遊戲\n",
        "while attempts < max_attempts and not found:\n",
        "    current_guess = guesses[attempts]  # 模擬使用者輸入\n",
        "    attempts = attempts + 1\n",
        "\n",
        "    print(f\"第 {attempts} 次猜測：{current_guess}\")\n",
        "\n",
        "    # 判斷猜測結果\n",
        "    if current_guess == secret_number:\n",
        "        print(f\"🎉 恭喜！你猜對了！\")\n",
        "        print(f\"🏆 答案就是 {secret_number}\")\n",
        "\n",
        "        # 根據嘗試次數給出評價\n",
        "        if attempts <= 2:\n",
        "            print(\"👑 評價：運氣超好！\")\n",
        "        elif attempts <= 4:\n",
        "            print(\"🌟 評價：很棒的表現！\")\n",
        "        else:\n",
        "            print(\"👍 評價：最後猜中了！\")\n",
        "\n",
        "        found = True\n",
        "\n",
        "    elif current_guess < secret_number:\n",
        "        print(\"📈 太小了！往大一點猜\")\n",
        "        remaining = max_attempts - attempts\n",
        "        if remaining > 0:\n",
        "            print(f\"🎯 還有 {remaining} 次機會\")\n",
        "\n",
        "    else:  # current_guess > secret_number\n",
        "        print(\"📉 太大了！往小一點猜\")\n",
        "        remaining = max_attempts - attempts\n",
        "        if remaining > 0:\n",
        "            print(f\"🎯 還有 {remaining} 次機會\")\n",
        "\n",
        "    print(\"-\" * 25)\n",
        "\n",
        "# 遊戲結束檢查\n",
        "if not found:\n",
        "    print(f\"😅 遊戲結束！答案是 {secret_number}\")\n",
        "    print(\"💪 下次再試試看！\")\n",
        "\n",
        "print(\"\\n🎮 遊戲結束\")\n",
        "print(\"\\n💡 這個範例展示了：\")\n",
        "print(\"• while迴圈控制遊戲流程\")\n",
        "print(\"• 複合條件判斷 (and, not)\")\n",
        "print(\"• 布林變數控制迴圈\")\n",
        "print(\"• 嵌狀if-elif-else判斷\")"
      ],
      "metadata": {
        "colab": {
          "base_uri": "https://localhost:8080/"
        },
        "id": "ZbiQRSsvm9sO",
        "outputId": "651db2e1-66c4-4623-f634-d7d12b273d72"
      },
      "execution_count": null,
      "outputs": [
        {
          "output_type": "stream",
          "name": "stdout",
          "text": [
            "🎲 簡單猜數字遊戲\n",
            "====================\n",
            "🎯 我想了一個 1 到 100 之間的數字\n",
            "🎪 你有 5 次機會猜中它！\n",
            "💡 我會告訴你猜測是太大還是太小\n",
            "\n",
            "第 1 次猜測：30\n",
            "📈 太小了！往大一點猜\n",
            "🎯 還有 4 次機會\n",
            "-------------------------\n",
            "第 2 次猜測：50\n",
            "📉 太大了！往小一點猜\n",
            "🎯 還有 3 次機會\n",
            "-------------------------\n",
            "第 3 次猜測：40\n",
            "📈 太小了！往大一點猜\n",
            "🎯 還有 2 次機會\n",
            "-------------------------\n",
            "第 4 次猜測：43\n",
            "📉 太大了！往小一點猜\n",
            "🎯 還有 1 次機會\n",
            "-------------------------\n",
            "第 5 次猜測：42\n",
            "🎉 恭喜！你猜對了！\n",
            "🏆 答案就是 42\n",
            "👍 評價：最後猜中了！\n",
            "-------------------------\n",
            "\n",
            "🎮 遊戲結束\n",
            "\n",
            "💡 這個範例展示了：\n",
            "• while迴圈控制遊戲流程\n",
            "• 複合條件判斷 (and, not)\n",
            "• 布林變數控制迴圈\n",
            "• 嵌狀if-elif-else判斷\n"
          ]
        }
      ]
    },
    {
      "cell_type": "code",
      "source": [
        "# 練習題 3：密碼強度檢測器\n",
        "print(\"🔐 密碼強度檢測器\")\n",
        "print(\"請檢測密碼強度並給出評級\")\n",
        "print(\"\\n檢測條件：\")\n",
        "print(\"1. 密碼長度至少 8 個字符\")\n",
        "print(\"2. 包含大寫字母\")\n",
        "print(\"3. 包含小寫字母\")\n",
        "print(\"4. 包含數字\")\n",
        "print(\"5. 包含特殊符號\")\n",
        "print(\"\\n評級標準：\")\n",
        "print(\"• 5個條件：非常強 🔒\")\n",
        "print(\"• 4個條件：強 🛡️\")\n",
        "print(\"• 3個條件：中等 ⚠️\")\n",
        "print(\"• 2個以下：弱 ❌\")\n",
        "\n",
        "# 測試密碼清單\n",
        "test_passwords = [\n",
        "    \"123456\",\n",
        "    \"Password\",\n",
        "    \"Password123\",\n",
        "    \"MyP@ssw0rd\",\n",
        "    \"asdqwezxcwsad\"\n",
        "]\n",
        "\n",
        "print(\"\\n\" + \"=\" * 30)\n",
        "\n",
        "for password in test_passwords:\n",
        "    print(f\"\\n🔍 檢測密碼：{password}\")\n",
        "\n",
        "    # 初始化檢測結果\n",
        "    conditions_met = 0\n",
        "\n",
        "    # 1. 檢查長度\n",
        "    if len(password) >= 8:\n",
        "        print(\"   ✅ 長度足夠（≥8字符）\")\n",
        "        conditions_met = conditions_met + 1\n",
        "    else:\n",
        "        print(\"   ❌ 長度不足（<8字符）\")\n",
        "\n",
        "    # 2. 檢查大寫字母\n",
        "    has_upper = False\n",
        "    for char in password:\n",
        "        if char >= 'A' and char <= 'Z':  # 檢查是否為大寫字母\n",
        "            has_upper = True\n",
        "            break\n",
        "\n",
        "    if has_upper:\n",
        "        print(\"   ✅ 包含大寫字母\")\n",
        "        conditions_met = conditions_met + 1\n",
        "    else:\n",
        "        print(\"   ❌ 缺少大寫字母\")\n",
        "\n",
        "    # 3. 檢查小寫字母\n",
        "    has_lower = False\n",
        "    for char in password:\n",
        "        if char >= 'a' and char <= 'z':  # 檢查是否為小寫字母\n",
        "            has_lower = True\n",
        "            break\n",
        "\n",
        "    if has_lower:\n",
        "        print(\"   ✅ 包含小寫字母\")\n",
        "        conditions_met = conditions_met + 1\n",
        "    else:\n",
        "        print(\"   ❌ 缺少小寫字母\")\n",
        "\n",
        "    # 4. 檢查數字\n",
        "    has_digit = False\n",
        "    for char in password:\n",
        "        if char >= '0' and char <= '9':  # 檢查是否為數字\n",
        "            has_digit = True\n",
        "            break\n",
        "\n",
        "    if has_digit:\n",
        "        print(\"   ✅ 包含數字\")\n",
        "        conditions_met = conditions_met + 1\n",
        "    else:\n",
        "        print(\"   ❌ 缺少數字\")\n",
        "\n",
        "    # 5. 檢查特殊符號\n",
        "    special_chars = \"!@#$%^&*\"\n",
        "    has_special = False\n",
        "    for char in password:\n",
        "        if char in special_chars:\n",
        "            has_special = True\n",
        "            break\n",
        "\n",
        "    if has_special:\n",
        "        print(\"   ✅ 包含特殊符號\")\n",
        "        conditions_met = conditions_met + 1\n",
        "    else:\n",
        "        print(\"   ❌ 缺少特殊符號\")\n",
        "\n",
        "    # 給出最終評級\n",
        "    print(f\"\\n   滿足條件：{conditions_met}/5\")\n",
        "    if conditions_met == 5:\n",
        "        print(\"   🔒 評級：非常強\")\n",
        "    elif conditions_met == 4:\n",
        "        print(\"   🛡️ 評級：強\")\n",
        "    elif conditions_met == 3:\n",
        "        print(\"   ⚠️ 評級：中等\")\n",
        "    else:\n",
        "        print(\"   ❌ 評級：弱\")\n",
        "\n",
        "print(\"\\n💡 這個練習展示了：\")\n",
        "print(\"• 字串長度檢查 len()\")\n",
        "print(\"• 字符範圍判斷（'A' <= char <= 'Z'）\")\n",
        "print(\"• 迴圈搭配條件判斷\")\n",
        "print(\"• 計數器累加技巧\")"
      ],
      "metadata": {
        "colab": {
          "base_uri": "https://localhost:8080/"
        },
        "id": "DInJnM6iodDI",
        "outputId": "24c2214f-8b2f-4955-88bd-da516ca7ecc1"
      },
      "execution_count": null,
      "outputs": [
        {
          "output_type": "stream",
          "name": "stdout",
          "text": [
            "🔐 密碼強度檢測器\n",
            "請檢測密碼強度並給出評級\n",
            "\n",
            "檢測條件：\n",
            "1. 密碼長度至少 8 個字符\n",
            "2. 包含大寫字母\n",
            "3. 包含小寫字母\n",
            "4. 包含數字\n",
            "5. 包含特殊符號\n",
            "\n",
            "評級標準：\n",
            "• 5個條件：非常強 🔒\n",
            "• 4個條件：強 🛡️\n",
            "• 3個條件：中等 ⚠️\n",
            "• 2個以下：弱 ❌\n",
            "\n",
            "==============================\n",
            "\n",
            "🔍 檢測密碼：123456\n",
            "   ❌ 長度不足（<8字符）\n",
            "   ❌ 缺少大寫字母\n",
            "   ❌ 缺少小寫字母\n",
            "   ✅ 包含數字\n",
            "   ❌ 缺少特殊符號\n",
            "\n",
            "   滿足條件：1/5\n",
            "   ❌ 評級：弱\n",
            "\n",
            "🔍 檢測密碼：Password\n",
            "   ✅ 長度足夠（≥8字符）\n",
            "   ✅ 包含大寫字母\n",
            "   ✅ 包含小寫字母\n",
            "   ❌ 缺少數字\n",
            "   ❌ 缺少特殊符號\n",
            "\n",
            "   滿足條件：3/5\n",
            "   ⚠️ 評級：中等\n",
            "\n",
            "🔍 檢測密碼：Password123\n",
            "   ✅ 長度足夠（≥8字符）\n",
            "   ✅ 包含大寫字母\n",
            "   ✅ 包含小寫字母\n",
            "   ✅ 包含數字\n",
            "   ❌ 缺少特殊符號\n",
            "\n",
            "   滿足條件：4/5\n",
            "   🛡️ 評級：強\n",
            "\n",
            "🔍 檢測密碼：MyP@ssw0rd\n",
            "   ✅ 長度足夠（≥8字符）\n",
            "   ✅ 包含大寫字母\n",
            "   ✅ 包含小寫字母\n",
            "   ✅ 包含數字\n",
            "   ✅ 包含特殊符號\n",
            "\n",
            "   滿足條件：5/5\n",
            "   🔒 評級：非常強\n",
            "\n",
            "🔍 檢測密碼：asdqwezxcwsad\n",
            "   ✅ 長度足夠（≥8字符）\n",
            "   ❌ 缺少大寫字母\n",
            "   ✅ 包含小寫字母\n",
            "   ❌ 缺少數字\n",
            "   ❌ 缺少特殊符號\n",
            "\n",
            "   滿足條件：2/5\n",
            "   ❌ 評級：弱\n",
            "\n",
            "💡 這個練習展示了：\n",
            "• 字串長度檢查 len()\n",
            "• 字符範圍判斷（'A' <= char <= 'Z'）\n",
            "• 迴圈搭配條件判斷\n",
            "• 計數器累加技巧\n"
          ]
        }
      ]
    },
    {
      "cell_type": "code",
      "source": [],
      "metadata": {
        "id": "5BtQwagGrgyJ"
      },
      "execution_count": null,
      "outputs": []
    },
    {
      "cell_type": "code",
      "source": [
        "print(list(range(10)))\n",
        "print(list(range(0,10)))\n",
        "print(list(range(10,0,-1)))"
      ],
      "metadata": {
        "colab": {
          "base_uri": "https://localhost:8080/"
        },
        "id": "x_uLFlViqLMb",
        "outputId": "7d38ca27-a816-4542-f3b3-938748e12ba4"
      },
      "execution_count": null,
      "outputs": [
        {
          "output_type": "stream",
          "name": "stdout",
          "text": [
            "[0, 1, 2, 3, 4, 5, 6, 7, 8, 9]\n",
            "[0, 1, 2, 3, 4, 5, 6, 7, 8, 9]\n",
            "[10, 9, 8, 7, 6, 5, 4, 3, 2, 1]\n"
          ]
        }
      ]
    },
    {
      "cell_type": "code",
      "source": [
        "##range(len()) len會回傳清單的長度"
      ],
      "metadata": {
        "id": "oI4bNjsTrZ2i"
      },
      "execution_count": null,
      "outputs": []
    },
    {
      "cell_type": "code",
      "source": [
        "name = \"misa\"\n",
        "print('hello,%s'%name)\n",
        "print('hello.{}'.format(name))\n",
        "print(f'hello,{name}')\n",
        "print('hello,{0}'.format(name))"
      ],
      "metadata": {
        "colab": {
          "base_uri": "https://localhost:8080/"
        },
        "id": "44aFdizyy9Cd",
        "outputId": "f6b2761f-5075-4fcf-8a4e-37678844932d"
      },
      "execution_count": null,
      "outputs": [
        {
          "output_type": "stream",
          "name": "stdout",
          "text": [
            "hello,misa\n",
            "hello.misa\n",
            "hello,misa\n",
            "hello,misa\n"
          ]
        }
      ]
    },
    {
      "cell_type": "code",
      "source": [],
      "metadata": {
        "id": "1w45RRjDzvJb"
      },
      "execution_count": null,
      "outputs": []
    }
  ]
}