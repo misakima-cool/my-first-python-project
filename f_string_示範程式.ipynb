{
  "nbformat": 4,
  "nbformat_minor": 0,
  "metadata": {
    "colab": {
      "provenance": [],
      "authorship_tag": "ABX9TyM+XpB1G1xnh0BX9Kxqs9Tr",
      "include_colab_link": true
    },
    "kernelspec": {
      "name": "python3",
      "display_name": "Python 3"
    },
    "language_info": {
      "name": "python"
    }
  },
  "cells": [
    {
      "cell_type": "markdown",
      "metadata": {
        "id": "view-in-github",
        "colab_type": "text"
      },
      "source": [
        "<a href=\"https://colab.research.google.com/github/misakima-cool/my-first-python-project/blob/main/f_string_%E7%A4%BA%E7%AF%84%E7%A8%8B%E5%BC%8F.ipynb\" target=\"_parent\"><img src=\"https://colab.research.google.com/assets/colab-badge.svg\" alt=\"Open In Colab\"/></a>"
      ]
    },
    {
      "cell_type": "code",
      "execution_count": 1,
      "metadata": {
        "colab": {
          "base_uri": "https://localhost:8080/"
        },
        "id": "3m9XSt8Oc3qP",
        "outputId": "32254f98-23b7-4584-ab12-d751ddcd125e"
      },
      "outputs": [
        {
          "output_type": "stream",
          "name": "stdout",
          "text": [
            "\n",
            "1️⃣ 基本插值、運算、函式呼叫\n",
            "Hi Aria, 現在是 9 點\n",
            "3+5 = 8\n",
            "大寫名字：ARIA, 長度：4\n",
            "\n",
            "2️⃣ 數字格式化\n",
            "補零：007\n",
            "小數點兩位：3.14\n",
            "右對齊寬度 5：|    7|\n",
            "左對齊寬度 5：|7    |\n",
            "置中寬度 5：|  7  |\n",
            "千分位：1,234,567\n",
            "百分比：87.6%\n",
            "科學記號：1.234567e+06\n",
            "\n",
            "3️⃣ 日期時間格式化\n",
            "日期：2025-09-20\n",
            "時間：23:27:32\n",
            "完整：2025-09-20 23:27:32\n",
            "\n",
            "4️⃣ 進階技巧\n",
            "巢狀 f-string：值：42\n",
            "條件表達式：早安\n",
            "計算+格式化：6.283\n"
          ]
        }
      ],
      "source": [
        "from datetime import datetime\n",
        "\n",
        "# 1️⃣ 基本插值、運算、函式呼叫\n",
        "name = \"Aria\"\n",
        "hour = 9\n",
        "print(f\"\\n1️⃣ 基本插值、運算、函式呼叫\")\n",
        "print(f\"Hi {name}, 現在是 {hour} 點\")\n",
        "print(f\"{3}+{5} = {3+5}\")\n",
        "print(f\"大寫名字：{name.upper()}, 長度：{len(name)}\")\n",
        "\n",
        "# 2️⃣ 數字格式化\n",
        "num = 7\n",
        "big_num = 1234567\n",
        "pi = 3.14159\n",
        "rate = 0.8765\n",
        "print(f\"\\n2️⃣ 數字格式化\")\n",
        "print(f\"補零：{num:03}\")\n",
        "print(f\"小數點兩位：{pi:.2f}\")\n",
        "print(f\"右對齊寬度 5：|{num:>5}|\")\n",
        "print(f\"左對齊寬度 5：|{num:<5}|\")\n",
        "print(f\"置中寬度 5：|{num:^5}|\")\n",
        "print(f\"千分位：{big_num:,}\")\n",
        "print(f\"百分比：{rate:.1%}\")\n",
        "print(f\"科學記號：{big_num:e}\")\n",
        "\n",
        "# 3️⃣ 日期時間格式化\n",
        "now = datetime.now()\n",
        "print(f\"\\n3️⃣ 日期時間格式化\")\n",
        "print(f\"日期：{now:%Y-%m-%d}\")\n",
        "print(f\"時間：{now:%H:%M:%S}\")\n",
        "print(f\"完整：{now:%Y-%m-%d %H:%M:%S}\")\n",
        "\n",
        "# 4️⃣ 進階技巧\n",
        "value = 42\n",
        "template = \"值：{}\"\n",
        "print(f\"\\n4️⃣ 進階技巧\")\n",
        "print(f\"巢狀 f-string：{template.format(value)}\")\n",
        "print(f\"條件表達式：{'早安' if hour < 12 else '晚安'}\")\n",
        "print(f\"計算+格式化：{pi * 2:.3f}\")\n"
      ]
    },
    {
      "cell_type": "code",
      "source": [
        "💻 執行範例輸出（假設現在時間是早上 9:30）\n",
        "1️⃣ 基本插值、運算、函式呼叫\n",
        "Hi Aria, 現在是 9 點\n",
        "3+5 = 8\n",
        "大寫名字：ARIA, 長度：4\n",
        "\n",
        "2️⃣ 數字格式化\n",
        "補零：007\n",
        "小數點兩位：3.14\n",
        "右對齊寬度 5：|    7|\n",
        "左對齊寬度 5：|7    |\n",
        "置中寬度 5：|  7  |\n",
        "千分位：1,234,567\n",
        "百分比：87.6%\n",
        "科學記號：1.234567e+06\n",
        "\n",
        "3️⃣ 日期時間格式化\n",
        "日期：2025-09-21\n",
        "時間：09:30:12\n",
        "完整：2025-09-21 09:30:12\n",
        "\n",
        "4️⃣ 進階技巧\n",
        "巢狀 f-string：值：42\n",
        "條件表達式：早安\n",
        "計算+格式化：6.283\n"
      ],
      "metadata": {
        "colab": {
          "base_uri": "https://localhost:8080/",
          "height": 106
        },
        "id": "FtamMvXtdDCW",
        "outputId": "7f239dad-1110-4eb2-ab83-48a74a77655c"
      },
      "execution_count": 2,
      "outputs": [
        {
          "output_type": "error",
          "ename": "SyntaxError",
          "evalue": "invalid character '💻' (U+1F4BB) (ipython-input-1487845942.py, line 1)",
          "traceback": [
            "\u001b[0;36m  File \u001b[0;32m\"/tmp/ipython-input-1487845942.py\"\u001b[0;36m, line \u001b[0;32m1\u001b[0m\n\u001b[0;31m    💻 執行範例輸出（假設現在時間是早上 9:30）\u001b[0m\n\u001b[0m    ^\u001b[0m\n\u001b[0;31mSyntaxError\u001b[0m\u001b[0;31m:\u001b[0m invalid character '💻' (U+1F4BB)\n"
          ]
        }
      ]
    },
    {
      "cell_type": "code",
      "source": [
        "from datetime import datetime\n",
        "\n",
        "print(\"=== f-string 互動示範 ===\")\n",
        "\n",
        "# 讓使用者輸入名字\n",
        "name = input(\"請輸入你的名字：\")\n",
        "\n",
        "# 讓使用者輸入時間（小時）\n",
        "hour = int(input(\"請輸入現在的時間（0-23）：\"))\n",
        "\n",
        "# 讓使用者輸入數字\n",
        "num = int(input(\"請輸入一個整數：\"))\n",
        "\n",
        "# 讓使用者輸入浮點數\n",
        "pi = float(input(\"請輸入一個浮點數：\"))\n",
        "\n",
        "# 1️⃣ 基本插值、運算、函式呼叫\n",
        "print(f\"\\n1️⃣ 基本插值、運算、函式呼叫\")\n",
        "print(f\"Hi {name}, 現在是 {hour} 點\")\n",
        "print(f\"{3}+{5} = {3+5}\")\n",
        "print(f\"大寫名字：{name.upper()}, 長度：{len(name)}\")\n",
        "\n",
        "# 2️⃣ 數字格式化\n",
        "print(f\"\\n2️⃣ 數字格式化\")\n",
        "print(f\"補零：{num:03}\")\n",
        "print(f\"小數點兩位：{pi:.2f}\")\n",
        "print(f\"右對齊寬度 5：|{num:>5}|\")\n",
        "print(f\"左對齊寬度 5：|{num:<5}|\")\n",
        "print(f\"置中寬度 5：|{num:^5}|\")\n",
        "print(f\"千分位：{1234567:,}\")\n",
        "print(f\"百分比：{0.8765:.1%}\")\n",
        "print(f\"科學記號：{1234567:e}\")\n",
        "\n",
        "# 3️⃣ 日期時間格式化\n",
        "now = datetime.now()\n",
        "print(f\"\\n3️⃣ 日期時間格式化\")\n",
        "print(f\"日期：{now:%Y-%m-%d}\")\n",
        "print(f\"時間：{now:%H:%M:%S}\")\n",
        "print(f\"完整：{now:%Y-%m-%d %H:%M:%S}\")\n",
        "\n",
        "# 4️⃣ 進階技巧\n",
        "template = \"值：{}\"\n",
        "print(f\"\\n4️⃣ 進階技巧\")\n",
        "print(f\"巢狀 f-string：{template.format(num)}\")\n",
        "print(f\"條件表達式：{'早安' if hour < 12 else '晚安'}\")\n",
        "print(f\"計算+格式化：{pi * 2:.3f}\")\n"
      ],
      "metadata": {
        "colab": {
          "base_uri": "https://localhost:8080/"
        },
        "id": "eDb5YG90dXxj",
        "outputId": "65173909-594b-4a9b-8454-774f5fca3973"
      },
      "execution_count": 3,
      "outputs": [
        {
          "output_type": "stream",
          "name": "stdout",
          "text": [
            "=== f-string 互動示範 ===\n",
            "請輸入你的名字：misa\n",
            "請輸入現在的時間（0-23）：07\n",
            "請輸入一個整數：99\n",
            "請輸入一個浮點數：87.3\n",
            "\n",
            "1️⃣ 基本插值、運算、函式呼叫\n",
            "Hi misa, 現在是 7 點\n",
            "3+5 = 8\n",
            "大寫名字：MISA, 長度：4\n",
            "\n",
            "2️⃣ 數字格式化\n",
            "補零：099\n",
            "小數點兩位：87.30\n",
            "右對齊寬度 5：|   99|\n",
            "左對齊寬度 5：|99   |\n",
            "置中寬度 5：| 99  |\n",
            "千分位：1,234,567\n",
            "百分比：87.6%\n",
            "科學記號：1.234567e+06\n",
            "\n",
            "3️⃣ 日期時間格式化\n",
            "日期：2025-09-20\n",
            "時間：23:29:16\n",
            "完整：2025-09-20 23:29:16\n",
            "\n",
            "4️⃣ 進階技巧\n",
            "巢狀 f-string：值：99\n",
            "條件表達式：早安\n",
            "計算+格式化：174.600\n"
          ]
        }
      ]
    },
    {
      "cell_type": "code",
      "source": [],
      "metadata": {
        "id": "zGYKPcGedZXT"
      },
      "execution_count": null,
      "outputs": []
    }
  ]
}